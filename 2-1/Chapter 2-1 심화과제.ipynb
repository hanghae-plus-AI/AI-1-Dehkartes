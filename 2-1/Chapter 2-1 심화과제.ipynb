{
  "cells": [
    {
      "cell_type": "markdown",
      "metadata": {
        "id": "sbgz49PvHhLt"
      },
      "source": [
        "# DistilBERT fine-tuning으로 감정 분석 모델 학습하기\n",
        "\n",
        "이번 실습에서는 pre-trained된 DistilBERT를 불러와 이전 주차 실습에서 사용하던 감정 분석 문제에 적용합니다. 먼저 필요한 library들을 불러옵니다."
      ]
    },
    {
      "cell_type": "code",
      "execution_count": 6,
      "metadata": {
        "colab": {
          "base_uri": "https://localhost:8080/"
        },
        "collapsed": true,
        "id": "1LqgujQUbv6X",
        "outputId": "f8faaad2-ac05-401b-c8f1-45ec07cbb71b"
      },
      "outputs": [
        {
          "name": "stdout",
          "output_type": "stream",
          "text": [
            "Requirement already satisfied: tqdm in c:\\users\\sejin\\.conda\\envs\\plusai\\lib\\site-packages (4.66.5)\n",
            "Requirement already satisfied: boto3 in c:\\users\\sejin\\.conda\\envs\\plusai\\lib\\site-packages (1.35.30)\n",
            "Requirement already satisfied: requests in c:\\users\\sejin\\.conda\\envs\\plusai\\lib\\site-packages (2.32.3)\n",
            "Requirement already satisfied: regex in c:\\users\\sejin\\.conda\\envs\\plusai\\lib\\site-packages (2024.9.11)\n",
            "Requirement already satisfied: sentencepiece in c:\\users\\sejin\\.conda\\envs\\plusai\\lib\\site-packages (0.2.0)\n",
            "Requirement already satisfied: sacremoses in c:\\users\\sejin\\.conda\\envs\\plusai\\lib\\site-packages (0.0.53)\n",
            "Requirement already satisfied: datasets in c:\\users\\sejin\\.conda\\envs\\plusai\\lib\\site-packages (3.0.0)\n",
            "Requirement already satisfied: colorama in c:\\users\\sejin\\.conda\\envs\\plusai\\lib\\site-packages (from tqdm) (0.4.6)\n",
            "Requirement already satisfied: botocore<1.36.0,>=1.35.30 in c:\\users\\sejin\\.conda\\envs\\plusai\\lib\\site-packages (from boto3) (1.35.30)\n",
            "Requirement already satisfied: jmespath<2.0.0,>=0.7.1 in c:\\users\\sejin\\.conda\\envs\\plusai\\lib\\site-packages (from boto3) (1.0.1)\n",
            "Requirement already satisfied: s3transfer<0.11.0,>=0.10.0 in c:\\users\\sejin\\.conda\\envs\\plusai\\lib\\site-packages (from boto3) (0.10.2)\n",
            "Requirement already satisfied: charset-normalizer<4,>=2 in c:\\users\\sejin\\.conda\\envs\\plusai\\lib\\site-packages (from requests) (3.3.2)\n",
            "Requirement already satisfied: idna<4,>=2.5 in c:\\users\\sejin\\.conda\\envs\\plusai\\lib\\site-packages (from requests) (3.7)\n",
            "Requirement already satisfied: urllib3<3,>=1.21.1 in c:\\users\\sejin\\.conda\\envs\\plusai\\lib\\site-packages (from requests) (2.2.2)\n",
            "Requirement already satisfied: certifi>=2017.4.17 in c:\\users\\sejin\\.conda\\envs\\plusai\\lib\\site-packages (from requests) (2024.8.30)\n",
            "Requirement already satisfied: six in c:\\users\\sejin\\.conda\\envs\\plusai\\lib\\site-packages (from sacremoses) (1.16.0)\n",
            "Requirement already satisfied: click in c:\\users\\sejin\\.conda\\envs\\plusai\\lib\\site-packages (from sacremoses) (8.1.7)\n",
            "Requirement already satisfied: joblib in c:\\users\\sejin\\.conda\\envs\\plusai\\lib\\site-packages (from sacremoses) (1.4.2)\n",
            "Requirement already satisfied: filelock in c:\\users\\sejin\\.conda\\envs\\plusai\\lib\\site-packages (from datasets) (3.13.1)\n",
            "Requirement already satisfied: numpy>=1.17 in c:\\users\\sejin\\.conda\\envs\\plusai\\lib\\site-packages (from datasets) (1.26.4)\n",
            "Requirement already satisfied: pyarrow>=15.0.0 in c:\\users\\sejin\\.conda\\envs\\plusai\\lib\\site-packages (from datasets) (17.0.0)\n",
            "Requirement already satisfied: dill<0.3.9,>=0.3.0 in c:\\users\\sejin\\.conda\\envs\\plusai\\lib\\site-packages (from datasets) (0.3.8)\n",
            "Requirement already satisfied: pandas in c:\\users\\sejin\\.conda\\envs\\plusai\\lib\\site-packages (from datasets) (2.2.2)\n",
            "Requirement already satisfied: xxhash in c:\\users\\sejin\\.conda\\envs\\plusai\\lib\\site-packages (from datasets) (2.0.2)\n",
            "Requirement already satisfied: multiprocess in c:\\users\\sejin\\.conda\\envs\\plusai\\lib\\site-packages (from datasets) (0.70.15)\n",
            "Requirement already satisfied: fsspec<=2024.6.1,>=2023.1.0 in c:\\users\\sejin\\.conda\\envs\\plusai\\lib\\site-packages (from fsspec[http]<=2024.6.1,>=2023.1.0->datasets) (2024.6.1)\n",
            "Requirement already satisfied: aiohttp in c:\\users\\sejin\\.conda\\envs\\plusai\\lib\\site-packages (from datasets) (3.10.5)\n",
            "Requirement already satisfied: huggingface-hub>=0.22.0 in c:\\users\\sejin\\.conda\\envs\\plusai\\lib\\site-packages (from datasets) (0.24.6)\n",
            "Requirement already satisfied: packaging in c:\\users\\sejin\\.conda\\envs\\plusai\\lib\\site-packages (from datasets) (24.1)\n",
            "Requirement already satisfied: pyyaml>=5.1 in c:\\users\\sejin\\.conda\\envs\\plusai\\lib\\site-packages (from datasets) (6.0.1)\n",
            "Requirement already satisfied: python-dateutil<3.0.0,>=2.1 in c:\\users\\sejin\\.conda\\envs\\plusai\\lib\\site-packages (from botocore<1.36.0,>=1.35.30->boto3) (2.9.0.post0)\n",
            "Requirement already satisfied: aiohappyeyeballs>=2.3.0 in c:\\users\\sejin\\.conda\\envs\\plusai\\lib\\site-packages (from aiohttp->datasets) (2.4.0)\n",
            "Requirement already satisfied: aiosignal>=1.1.2 in c:\\users\\sejin\\.conda\\envs\\plusai\\lib\\site-packages (from aiohttp->datasets) (1.2.0)\n",
            "Requirement already satisfied: attrs>=17.3.0 in c:\\users\\sejin\\.conda\\envs\\plusai\\lib\\site-packages (from aiohttp->datasets) (23.1.0)\n",
            "Requirement already satisfied: frozenlist>=1.1.1 in c:\\users\\sejin\\.conda\\envs\\plusai\\lib\\site-packages (from aiohttp->datasets) (1.4.0)\n",
            "Requirement already satisfied: multidict<7.0,>=4.5 in c:\\users\\sejin\\.conda\\envs\\plusai\\lib\\site-packages (from aiohttp->datasets) (6.0.4)\n",
            "Requirement already satisfied: yarl<2.0,>=1.0 in c:\\users\\sejin\\.conda\\envs\\plusai\\lib\\site-packages (from aiohttp->datasets) (1.11.0)\n",
            "Requirement already satisfied: typing-extensions>=3.7.4.3 in c:\\users\\sejin\\.conda\\envs\\plusai\\lib\\site-packages (from huggingface-hub>=0.22.0->datasets) (4.11.0)\n",
            "Requirement already satisfied: pytz>=2020.1 in c:\\users\\sejin\\.conda\\envs\\plusai\\lib\\site-packages (from pandas->datasets) (2024.1)\n",
            "Requirement already satisfied: tzdata>=2022.7 in c:\\users\\sejin\\.conda\\envs\\plusai\\lib\\site-packages (from pandas->datasets) (2023.3)\n"
          ]
        }
      ],
      "source": [
        "!pip install tqdm boto3 requests regex sentencepiece sacremoses datasets"
      ]
    },
    {
      "cell_type": "markdown",
      "metadata": {
        "id": "6YP3FxG9IF7O"
      },
      "source": [
        "그 후, 우리가 사용하는 DistilBERT pre-training 때 사용한 tokenizer를 불러옵니다."
      ]
    },
    {
      "cell_type": "code",
      "execution_count": 7,
      "metadata": {
        "colab": {
          "base_uri": "https://localhost:8080/"
        },
        "id": "6lGiZUoPby6e",
        "outputId": "592b19ee-1892-4821-fcef-24fe40cc185f"
      },
      "outputs": [
        {
          "name": "stderr",
          "output_type": "stream",
          "text": [
            "Using cache found in C:\\Users\\Sejin/.cache\\torch\\hub\\huggingface_pytorch-transformers_main\n",
            "c:\\Users\\Sejin\\.conda\\envs\\PlusAI\\Lib\\site-packages\\transformers\\tokenization_utils_base.py:1601: FutureWarning: `clean_up_tokenization_spaces` was not set. It will be set to `True` by default. This behavior will be depracted in transformers v4.45, and will be then set to `False` by default. For more details check this issue: https://github.com/huggingface/transformers/issues/31884\n",
            "  warnings.warn(\n"
          ]
        }
      ],
      "source": [
        "import torch\n",
        "from datasets import load_dataset\n",
        "from torch.utils.data import DataLoader\n",
        "\n",
        "tokenizer = torch.hub.load('huggingface/pytorch-transformers', 'tokenizer', 'openai-gpt')\n",
        "tokenizer.pad_token = tokenizer.unk_token"
      ]
    },
    {
      "cell_type": "markdown",
      "metadata": {
        "id": "Cvfl_uFLIMWO"
      },
      "source": [
        "DistilBERT의 tokenizer를 불러왔으면 이제 `collate_fn`과 data loader를 정의합니다. 이 과정은 이전 실습과 동일하게 다음과 같이 구현할 수 있습니다."
      ]
    },
    {
      "cell_type": "code",
      "execution_count": 8,
      "metadata": {
        "id": "rE-y8sY9HuwP"
      },
      "outputs": [],
      "source": [
        "ds = load_dataset(\"fancyzhx/ag_news\")\n",
        "\n",
        "\n",
        "def collate_fn(batch):\n",
        "\ttexts, labels = [], []\n",
        "\tfor row in batch:\n",
        "\t\tlabels.append(row['label'])\n",
        "\t\ttexts.append(row['text'])\n",
        "\n",
        "\ttexts = torch.LongTensor(tokenizer(texts, padding=True).input_ids)\n",
        "\tlabels = torch.LongTensor(labels)\n",
        "\n",
        "\treturn texts, labels\n",
        "\n",
        "\n",
        "train_loader = DataLoader(\n",
        "\t\tds['train'], batch_size=64, shuffle=True, collate_fn=collate_fn\n",
        ")\n",
        "test_loader = DataLoader(\n",
        "\t\tds['test'], batch_size=64, shuffle=False, collate_fn=collate_fn\n",
        ")"
      ]
    },
    {
      "cell_type": "markdown",
      "metadata": {
        "id": "bF34XkoYIeEm"
      },
      "source": [
        "이제 pre-trained DistilBERT를 불러옵니다. 이번에는 PyTorch hub에서 제공하는 DistilBERT를 불러봅시다."
      ]
    },
    {
      "cell_type": "code",
      "execution_count": 9,
      "metadata": {
        "colab": {
          "base_uri": "https://localhost:8080/"
        },
        "id": "HJaUp2Vob0U-",
        "outputId": "4cabca2b-06ce-480c-d52a-1381a955464b"
      },
      "outputs": [
        {
          "name": "stderr",
          "output_type": "stream",
          "text": [
            "Using cache found in C:\\Users\\Sejin/.cache\\torch\\hub\\huggingface_pytorch-transformers_main\n"
          ]
        },
        {
          "data": {
            "text/plain": [
              "DistilBertModel(\n",
              "  (embeddings): Embeddings(\n",
              "    (word_embeddings): Embedding(30522, 768, padding_idx=0)\n",
              "    (position_embeddings): Embedding(512, 768)\n",
              "    (LayerNorm): LayerNorm((768,), eps=1e-12, elementwise_affine=True)\n",
              "    (dropout): Dropout(p=0.1, inplace=False)\n",
              "  )\n",
              "  (transformer): Transformer(\n",
              "    (layer): ModuleList(\n",
              "      (0-5): 6 x TransformerBlock(\n",
              "        (attention): MultiHeadSelfAttention(\n",
              "          (dropout): Dropout(p=0.1, inplace=False)\n",
              "          (q_lin): Linear(in_features=768, out_features=768, bias=True)\n",
              "          (k_lin): Linear(in_features=768, out_features=768, bias=True)\n",
              "          (v_lin): Linear(in_features=768, out_features=768, bias=True)\n",
              "          (out_lin): Linear(in_features=768, out_features=768, bias=True)\n",
              "        )\n",
              "        (sa_layer_norm): LayerNorm((768,), eps=1e-12, elementwise_affine=True)\n",
              "        (ffn): FFN(\n",
              "          (dropout): Dropout(p=0.1, inplace=False)\n",
              "          (lin1): Linear(in_features=768, out_features=3072, bias=True)\n",
              "          (lin2): Linear(in_features=3072, out_features=768, bias=True)\n",
              "          (activation): GELUActivation()\n",
              "        )\n",
              "        (output_layer_norm): LayerNorm((768,), eps=1e-12, elementwise_affine=True)\n",
              "      )\n",
              "    )\n",
              "  )\n",
              ")"
            ]
          },
          "execution_count": 9,
          "metadata": {},
          "output_type": "execute_result"
        }
      ],
      "source": [
        "model = torch.hub.load('huggingface/pytorch-transformers', 'model', 'distilbert-base-uncased')\n",
        "model"
      ]
    },
    {
      "cell_type": "markdown",
      "metadata": {
        "id": "uh-tqY8WInQt"
      },
      "source": [
        "출력 결과를 통해 우리는 DistilBERT의 architecture는 일반적인 Transformer와 동일한 것을 알 수 있습니다.\n",
        "Embedding layer로 시작해서 여러 layer의 Attention, FFN를 거칩니다.\n",
        "\n",
        "이제 DistilBERT를 거치고 난 `[CLS]` token의 representation을 가지고 text 분류를 하는 모델을 구현합시다."
      ]
    },
    {
      "cell_type": "code",
      "execution_count": 10,
      "metadata": {
        "colab": {
          "base_uri": "https://localhost:8080/"
        },
        "id": "xW7ETZQzzNp2",
        "outputId": "acae0d36-0b4a-4c7c-a0cd-5171e7158cf2"
      },
      "outputs": [
        {
          "name": "stderr",
          "output_type": "stream",
          "text": [
            "Using cache found in C:\\Users\\Sejin/.cache\\torch\\hub\\huggingface_pytorch-transformers_main\n"
          ]
        },
        {
          "data": {
            "application/vnd.jupyter.widget-view+json": {
              "model_id": "d7895f3957144793865c1c4f618dcbbf",
              "version_major": 2,
              "version_minor": 0
            },
            "text/plain": [
              "model.safetensors:   0%|          | 0.00/479M [00:00<?, ?B/s]"
            ]
          },
          "metadata": {},
          "output_type": "display_data"
        }
      ],
      "source": [
        "from torch import nn\n",
        "\n",
        "\n",
        "class TextClassifier(nn.Module):\n",
        "\tdef __init__(self):\n",
        "\t\tsuper().__init__()\n",
        "\n",
        "\t\tself.encoder = torch.hub.load('huggingface/pytorch-transformers', 'model', 'openai-gpt')\n",
        "\t\tself.classifier = nn.Linear(768, 4)\n",
        "\n",
        "\tdef forward(self, x):\n",
        "\t\tx = self.encoder(x)['last_hidden_state']\n",
        "\t\tx = self.classifier(x[:, -1])\n",
        "\n",
        "\t\treturn x\n",
        "\n",
        "\n",
        "model = TextClassifier()"
      ]
    },
    {
      "cell_type": "markdown",
      "metadata": {
        "id": "_hFvSis0JLju"
      },
      "source": [
        "위와 같이 `TextClassifier`의 `encoder`를 불러온 DistilBERT, 그리고 `classifier`를 linear layer로 설정합니다.\n",
        "그리고 `forward` 함수에서 순차적으로 사용하여 예측 결과를 반환합니다.\n",
        "\n",
        "다음은 마지막 classifier layer를 제외한 나머지 부분을 freeze하는 코드를 구현합니다."
      ]
    },
    {
      "cell_type": "code",
      "execution_count": 11,
      "metadata": {
        "id": "uyTciaPZ0KYo"
      },
      "outputs": [],
      "source": [
        "for param in model.encoder.parameters():\n",
        "\tparam.requires_grad = False"
      ]
    },
    {
      "cell_type": "markdown",
      "metadata": {
        "id": "hU7BWEbgJeKm"
      },
      "source": [
        "위의 코드는 `encoder`에 해당하는 parameter들의 `requires_grad`를 `False`로 설정하는 모습입니다.\n",
        "`requires_grad`를 `False`로 두는 경우, gradient 계산 및 업데이트가 이루어지지 않아 결과적으로 학습이 되지 않습니다.\n",
        "즉, 마지막 `classifier`에 해당하는 linear layer만 학습이 이루어집니다.\n",
        "이런 식으로 특정 부분들을 freeze하게 되면 효율적으로 학습을 할 수 있습니다.\n",
        "\n",
        "마지막으로 이전과 같은 코드를 사용하여 학습 결과를 확인해봅시다."
      ]
    },
    {
      "cell_type": "code",
      "execution_count": 12,
      "metadata": {
        "colab": {
          "base_uri": "https://localhost:8080/"
        },
        "id": "XvvaAEwCznt-",
        "outputId": "3363b8ca-7695-493f-96a0-5aa6b52d1d60"
      },
      "outputs": [
        {
          "name": "stdout",
          "output_type": "stream",
          "text": [
            "Epoch   0 | Train Loss: 1327.4284281432629\n",
            "Epoch   1 | Train Loss: 1111.1437132507563\n",
            "Epoch   2 | Train Loss: 1085.5390819609165\n",
            "Epoch   3 | Train Loss: 1074.5335535258055\n",
            "Epoch   4 | Train Loss: 1073.4921699613333\n",
            "Epoch   5 | Train Loss: 1067.7952644824982\n",
            "Epoch   6 | Train Loss: 1060.637814283371\n",
            "Epoch   7 | Train Loss: 1056.207452505827\n",
            "Epoch   8 | Train Loss: 1059.4251220226288\n",
            "Epoch   9 | Train Loss: 1060.2318816632032\n"
          ]
        }
      ],
      "source": [
        "from torch.optim import Adam\n",
        "import numpy as np\n",
        "import matplotlib.pyplot as plt\n",
        "\n",
        "\n",
        "lr = 0.001\n",
        "model = model.to('cuda')\n",
        "loss_fn = nn.CrossEntropyLoss()\n",
        "\n",
        "optimizer = Adam(model.parameters(), lr=lr)\n",
        "n_epochs = 10\n",
        "\n",
        "for epoch in range(n_epochs):\n",
        "\ttotal_loss = 0.\n",
        "\tmodel.train()\n",
        "\tfor data in train_loader:\n",
        "\t\tmodel.zero_grad()\n",
        "\t\tinputs, labels = data\n",
        "\t\tinputs, labels = inputs.to('cuda'), labels.to('cuda')\n",
        "\n",
        "\t\tpreds = model(inputs)\n",
        "\t\tloss = loss_fn(preds, labels)\n",
        "\t\tloss.backward()\n",
        "\t\toptimizer.step()\n",
        "\n",
        "\t\ttotal_loss += loss.item()\n",
        "\n",
        "\tprint(f\"Epoch {epoch:3d} | Train Loss: {total_loss}\")"
      ]
    },
    {
      "cell_type": "code",
      "execution_count": 14,
      "metadata": {
        "colab": {
          "base_uri": "https://localhost:8080/"
        },
        "id": "DjphVwXL00E2",
        "outputId": "7526ec71-f015-4f26-8035-3091ed71869e"
      },
      "outputs": [
        {
          "name": "stdout",
          "output_type": "stream",
          "text": [
            "=========> Train acc: 0.829 | Test acc: 0.824\n"
          ]
        }
      ],
      "source": [
        "def accuracy(model, dataloader):\n",
        "\tcnt = 0\n",
        "\tacc = 0\n",
        "\n",
        "\tfor data in dataloader:\n",
        "\t\tinputs, labels = data\n",
        "\t\tinputs, labels = inputs.to('cuda'), labels.to('cuda')\n",
        "\n",
        "\t\tpreds = model(inputs)\n",
        "\t\tpreds = torch.argmax(preds, dim=-1)\n",
        "\t\t# preds = (preds > 0).long()[..., 0]\n",
        "\n",
        "\t\tcnt += labels.shape[0]\n",
        "\t\tacc += (labels == preds).sum().item()\n",
        "\n",
        "\treturn acc / cnt\n",
        "\n",
        "\n",
        "with torch.no_grad():\n",
        "\tmodel.eval()\n",
        "\ttrain_acc = accuracy(model, train_loader)\n",
        "\ttest_acc = accuracy(model, test_loader)\n",
        "\tprint(f\"=========> Train acc: {train_acc:.3f} | Test acc: {test_acc:.3f}\")"
      ]
    },
    {
      "cell_type": "markdown",
      "metadata": {
        "id": "rfFUkEM1ZWeG"
      },
      "source": [
        "Loss가 잘 떨어지고, 이전에 우리가 구현한 Transformer보다 더 빨리 수렴하는 것을 알 수 있습니다."
      ]
    },
    {
      "cell_type": "code",
      "execution_count": null,
      "metadata": {
        "id": "Foks5u95ZQ1_"
      },
      "outputs": [],
      "source": []
    }
  ],
  "metadata": {
    "accelerator": "GPU",
    "colab": {
      "gpuType": "T4",
      "provenance": []
    },
    "kernelspec": {
      "display_name": "Python 3",
      "name": "python3"
    },
    "language_info": {
      "codemirror_mode": {
        "name": "ipython",
        "version": 3
      },
      "file_extension": ".py",
      "mimetype": "text/x-python",
      "name": "python",
      "nbconvert_exporter": "python",
      "pygments_lexer": "ipython3",
      "version": "3.12.5"
    }
  },
  "nbformat": 4,
  "nbformat_minor": 0
}

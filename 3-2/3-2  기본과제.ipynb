{
  "cells": [
    {
      "cell_type": "markdown",
      "metadata": {
        "id": "QpzqKZIGiAJf"
      },
      "source": [
        "# [5주차 기본과제] 뉴스 기사 분류를 Gemma로 구현하기"
      ]
    },
    {
      "cell_type": "markdown",
      "metadata": {
        "id": "0OTiwRFCiOLh"
      },
      "source": [
        "그 다음 Gemma-2B를 사용하기 위해 다음과 같은 작업을 진행합니다:\n",
        "1. huggingface.co 계정 만들고 로그인하기\n",
        "2. https://www.kaggle.com/models/google/gemma/license/consent 에서 Gemma license 동의하기\n",
        "3. 홈 화면으로 돌아와, `Profile > Settings > Access Tokens` 메뉴로 들어와 \"Write\" type의 token 생성하기\n",
        "4. 생성한 토큰을 아래 \"HF TOKEN\"에 불여넣고 셀을 실행하기."
      ]
    },
    {
      "cell_type": "markdown",
      "metadata": {},
      "source": [
        "## Load Token"
      ]
    },
    {
      "cell_type": "code",
      "execution_count": 45,
      "metadata": {},
      "outputs": [
        {
          "name": "stdout",
          "output_type": "stream",
          "text": [
            "[('DEFAULT', <Section: DEFAULT>), ('token', <Section: token>)]\n"
          ]
        }
      ],
      "source": [
        "import configparser\n",
        "config = configparser.ConfigParser()\n",
        "config.read(\"../../secret.ini\")\n",
        "\n",
        "print(list(config.items()))"
      ]
    },
    {
      "cell_type": "code",
      "execution_count": 46,
      "metadata": {
        "colab": {
          "base_uri": "https://localhost:8080/"
        },
        "id": "OR-WLBupSWge",
        "outputId": "754bbb9b-e5ee-49cc-d911-c31665857bcc"
      },
      "outputs": [
        {
          "name": "stdout",
          "output_type": "stream",
          "text": [
            "The token has not been saved to the git credentials helper. Pass `add_to_git_credential=True` in this function directly or `--add-to-git-credential` if using via `huggingface-cli` if you want to set the git credential as well.\n",
            "Token is valid (permission: write).\n",
            "Your token has been saved to C:\\Users\\Sejin\\.cache\\huggingface\\token\n",
            "Login successful\n"
          ]
        }
      ],
      "source": [
        "from huggingface_hub import login\n",
        "# from google.colab import userdata\n",
        "# login(userdata.get(config.get(\"token\", \"huggingface\")))\n",
        "\n",
        "# 로컬에선 코랩 라이브러리 필요 없음\n",
        "login(config.get(\"token\", \"huggingface\"))"
      ]
    },
    {
      "cell_type": "markdown",
      "metadata": {
        "id": "bmaHKjt2i4YI"
      },
      "source": [
        "정상적으로 token을 생성하고 Gemma license에 동의했다면 아래 코드로 tokenizer와 Gemma-2B 모델을 불러올 수 있습니다."
      ]
    },
    {
      "cell_type": "code",
      "execution_count": 47,
      "metadata": {
        "colab": {
          "base_uri": "https://localhost:8080/",
          "height": 239,
          "referenced_widgets": [
            "31c9f3bb8337443ba261f703deb60bee",
            "0e3f7db5454b43df8378482ade8ae6cb",
            "20ea22fbd6de4a85bcf95430dbab723a",
            "097145238cb44bb5b1ef8ee33780bca5",
            "e13d437ed25f4fe1909438ab06b63430",
            "3515005acafa4ba4bb31b3f4a140526c",
            "b0de599f252947b3ab2636a3fb757a5a",
            "db064ed95c104ed78132946104a85adb",
            "3fa9855f02ca49a6b62cfbd26132f11d",
            "14de9443213346a2b1acc6c9a555be83",
            "006333234eba4b4da24226a01c5b2746"
          ]
        },
        "id": "9tnUVYfgSfiD",
        "outputId": "a8a0c468-7ed6-4755-c2c3-6c0c1f0b42fd"
      },
      "outputs": [
        {
          "data": {
            "application/vnd.jupyter.widget-view+json": {
              "model_id": "1e18f8477ade4ecca497313fde158566",
              "version_major": 2,
              "version_minor": 0
            },
            "text/plain": [
              "Loading checkpoint shards:   0%|          | 0/2 [00:00<?, ?it/s]"
            ]
          },
          "metadata": {},
          "output_type": "display_data"
        }
      ],
      "source": [
        "from transformers import AutoTokenizer, AutoModelForCausalLM\n",
        "\n",
        "tokenizer = AutoTokenizer.from_pretrained(\"google/gemma-2b\")\n",
        "model = AutoModelForCausalLM.from_pretrained(\"google/gemma-2b\", device_map=\"auto\")"
      ]
    },
    {
      "cell_type": "markdown",
      "metadata": {
        "id": "ODVS4wNyi_It"
      },
      "source": [
        "이번에는 Gemma-2B를 가지고 간단한 text 생성을 해봅시다.\n",
        "\"What is your name?\" 이라는 text를 넣었을 때 어떤 text가 생성되는지 살펴봅시다."
      ]
    },
    {
      "cell_type": "code",
      "execution_count": 48,
      "metadata": {
        "colab": {
          "base_uri": "https://localhost:8080/"
        },
        "id": "bDV0owydSlve",
        "outputId": "c117571d-10ec-4dcc-adfc-62276e874ed2"
      },
      "outputs": [
        {
          "name": "stderr",
          "output_type": "stream",
          "text": [
            "c:\\Users\\Sejin\\.conda\\envs\\AI_Standard\\lib\\site-packages\\transformers\\generation\\utils.py:1220: UserWarning: Using the model-agnostic default `max_length` (=20) to control the generation length. We recommend setting `max_new_tokens` to control the maximum length of the generation.\n",
            "  warnings.warn(\n"
          ]
        },
        {
          "name": "stdout",
          "output_type": "stream",
          "text": [
            "<bos>What is your name?\n",
            "\n",
            "What is your age?\n",
            "\n",
            "What is your gender?\n",
            "\n",
            "What\n"
          ]
        }
      ],
      "source": [
        "input_text = \"What is your name?\"\n",
        "input_ids = tokenizer(input_text, return_tensors=\"pt\").to(\"cuda\")\n",
        "outputs = model.generate(**input_ids)\n",
        "print(tokenizer.decode(outputs[0]))"
      ]
    },
    {
      "cell_type": "markdown",
      "metadata": {
        "id": "Prp1S51GjH2R"
      },
      "source": [
        "2B의 작은 LLM이라 질좋은 답변이 나오지 않는 것을 알 수 있습니다.\n",
        "이번에는 입력으로 넣어준 token들의 logit을 계산해봅시다."
      ]
    },
    {
      "cell_type": "code",
      "execution_count": 49,
      "metadata": {
        "colab": {
          "base_uri": "https://localhost:8080/"
        },
        "id": "BV23vDvvS95o",
        "outputId": "2cb41bae-534f-486c-f39e-eede1dcc475e"
      },
      "outputs": [
        {
          "name": "stdout",
          "output_type": "stream",
          "text": [
            "tensor([[     2,   1841,    603,    861,   1503, 235336]], device='cuda:0')\n",
            "tensor(-18.2746, device='cuda:0', grad_fn=<SelectBackward0>)\n",
            "tensor(-33.2665, device='cuda:0', grad_fn=<SelectBackward0>)\n",
            "tensor(-23.9536, device='cuda:0', grad_fn=<SelectBackward0>)\n",
            "tensor(-27.7627, device='cuda:0', grad_fn=<SelectBackward0>)\n",
            "tensor(-19.6064, device='cuda:0', grad_fn=<SelectBackward0>)\n",
            "tensor(-21.0372, device='cuda:0', grad_fn=<SelectBackward0>)\n"
          ]
        }
      ],
      "source": [
        "tokens = input_ids['input_ids']\n",
        "print(tokens)\n",
        "\n",
        "logits = model(**input_ids).logits\n",
        "for i in range(tokens.shape[-1]):\n",
        "    token = tokens[0, i].item()\n",
        "    print(logits[0, i, token])"
      ]
    },
    {
      "cell_type": "markdown",
      "metadata": {},
      "source": [
        "### Load Data"
      ]
    },
    {
      "cell_type": "code",
      "execution_count": 50,
      "metadata": {},
      "outputs": [],
      "source": [
        "from datasets import load_dataset\n",
        "db = load_dataset(\"fancyzhx/ag_news\") # label {World, Sports, Business, Sci/Tech}"
      ]
    },
    {
      "cell_type": "code",
      "execution_count": 51,
      "metadata": {},
      "outputs": [
        {
          "data": {
            "text/plain": [
              "{'text': \"Wall St. Bears Claw Back Into the Black (Reuters) Reuters - Short-sellers, Wall Street's dwindling\\\\band of ultra-cynics, are seeing green again.\",\n",
              " 'label': 2}"
            ]
          },
          "execution_count": 51,
          "metadata": {},
          "output_type": "execute_result"
        }
      ],
      "source": [
        "db[\"train\"]\n",
        "db[\"train\"][0]"
      ]
    },
    {
      "cell_type": "markdown",
      "metadata": {
        "id": "Lc_Wu4g-jW-M"
      },
      "source": [
        "위와 같이 모델 출력의 `.logits`을 통해 token들의 logit을 알 수 있습니다.\n",
        "Logit은 높을 수록 token이 나올 확률이 높다는 뜻입니다.\n",
        "\n",
        "이번에는 logit 계산을 통해 zero-shot classification을 구현해보도록 하겠습니다."
      ]
    },
    {
      "cell_type": "code",
      "execution_count": 52,
      "metadata": {
        "id": "80DYDWX_TGW4"
      },
      "outputs": [],
      "source": [
        "import torch\n",
        "\n",
        "def zero_shot_classification(text, task_description, labels):  # text는 주어진 입력, task_description은 task에 대한 설명, labels은 class들을 text로 변환한 결과입니다.\n",
        "    text_ids = tokenizer(task_description + text, return_tensors=\"pt\").to(\"cuda\")  # 먼저 task_description과 text를 이어붙인 후, tokenize합니다.\n",
        "    probs = []\n",
        "    for label in labels:  # 그 다음 각 text화된 label들을 tokenize하고 입력에 이어붙인 후, Gemma-2B에 넣어줍니다.\n",
        "        label_ids = tokenizer(label, return_tensors=\"pt\").to(\"cuda\")\n",
        "        n_label_tokens = label_ids['input_ids'].shape[-1] - 1  # text로 변환한 label의 token 수를 계산합니다.\n",
        "        input_ids = {\n",
        "            'input_ids': torch.concatenate([text_ids['input_ids'], label_ids['input_ids'][:, 1:]], axis=-1),  # concatenate 명령어를 통해 이어붙이는 모습입니다.\n",
        "            'attention_mask': torch.concatenate([text_ids['attention_mask'], label_ids['attention_mask'][:, 1:]], axis=-1)\n",
        "        }\n",
        "\n",
        "        logits = model(**input_ids).logits  # Logit을 계산한 모습입니다.\n",
        "        prob = 0\n",
        "        n_total = input_ids['input_ids'].shape[-1]\n",
        "        for i in range(n_label_tokens, 0, -1):  # 일반적으로 text로 변환한 label은 여러 token으로 이루어져있습니다. 이러한 label에 대한 logit은 구성하는 모든 token들의 logit들의 합으로 정의합니다.\n",
        "            token = label_ids['input_ids'][0, i].item()\n",
        "            prob += logits[0, n_total - i, token].item()\n",
        "        probs.append(prob)\n",
        "\n",
        "        del input_ids\n",
        "        del logits\n",
        "        torch.cuda.empty_cache()  # 위의 del과 empty_cache() 명령어를 통해 GPU를 제때 할당해제 해줍니다. 만약 GPU가 여유롭다면 지워주시는게 속도적으로 이득입니다.\n",
        "\n",
        "    return probs"
      ]
    },
    {
      "cell_type": "code",
      "execution_count": 53,
      "metadata": {},
      "outputs": [],
      "source": [
        "def idxToArticleTopic(idx: int):\n",
        "\tmatch idx:\n",
        "\t\tcase 0:\n",
        "\t\t\treturn \"World\"\n",
        "\t\tcase 1:\n",
        "\t\t\treturn \"Sports\"\n",
        "\t\tcase 2:\n",
        "\t\t\treturn \"Business\"\n",
        "\t\tcase 3:\n",
        "\t\t\treturn \"Sci/Tech\""
      ]
    },
    {
      "cell_type": "markdown",
      "metadata": {
        "id": "59oGhRjXkwbD"
      },
      "source": [
        "아래는 실제로 zero-shot classification을 해본 결과입니다."
      ]
    },
    {
      "cell_type": "code",
      "execution_count": 54,
      "metadata": {
        "colab": {
          "base_uri": "https://localhost:8080/"
        },
        "id": "qmRrHyEJTPXC",
        "outputId": "e3a4dd1f-5c04-458e-d1a8-b2e88203136f"
      },
      "outputs": [
        {
          "name": "stdout",
          "output_type": "stream",
          "text": [
            "Wall St. Bears Claw Back Into the Black (Reuters) Reuters - Short-sellers, Wall Street's dwindling\\band of ultra-cynics, are seeing green again. Business\n",
            "[-18.66045379638672, -18.249265670776367, -21.94363784790039, -16.02158784866333]\n"
          ]
        }
      ],
      "source": [
        "print(db[\"train\"][0][\"text\"], idxToArticleTopic(db[\"train\"][0][\"label\"]))\n",
        "\n",
        "probs = zero_shot_classification(db[\"train\"][0][\"text\"], \"What is the topic of this article?\", [\"World\", \"Sports\", \"Business\", \"Sci/Tech\"])\n",
        "print(probs)\n"
      ]
    },
    {
      "cell_type": "markdown",
      "metadata": {
        "id": "ORK2bdfjk71e"
      },
      "source": [
        "보시다시피 우리는 Gemma를 별도로 학습하지 않았음에도 불구하고 주어진 문장이 긍정적이라는 것을 정확하게 예측하고 있습니다.\n",
        "\n",
        "다음은 영화 리뷰 감정 분석 task에 적용해봅시다.\n",
        "먼저 data를 불러옵니다."
      ]
    },
    {
      "cell_type": "code",
      "execution_count": 55,
      "metadata": {
        "colab": {
          "base_uri": "https://localhost:8080/",
          "height": 49,
          "referenced_widgets": [
            "2379a0ef99054d73ab658e8dcf7a05af",
            "ea46f6de1fec4cd18ccd6659e37fa556",
            "f8dc077abc2b49aa9b67f7c6f77c42e0",
            "3bbd3adf58c248ea99587be77c306043",
            "fafd2f415b9a4c6799a431023d3689a9",
            "76e62808134346949ef3b047486beb6f",
            "e94ec0e1574a4a93ac885256005870b9",
            "f90fb938a7e84075a852b5419d983d34",
            "f6a8d4f6823e48f4a7eb5e1ea9db03ca",
            "5d04a65826e74808b09d55412c8a7be1",
            "a95543073c7242fd949ec78b03905494"
          ]
        },
        "id": "vJNWmHKGTRRK",
        "outputId": "fd222bb3-4529-4e99-dcf9-1244bf376295"
      },
      "outputs": [
        {
          "data": {
            "application/vnd.jupyter.widget-view+json": {
              "model_id": "ce20e022042d4dc9a71239ed7b2bf847",
              "version_major": 2,
              "version_minor": 0
            },
            "text/plain": [
              "Map:   0%|          | 0/7600 [00:00<?, ? examples/s]"
            ]
          },
          "metadata": {},
          "output_type": "display_data"
        },
        {
          "data": {
            "text/plain": [
              "DatasetDict({\n",
              "    train: Dataset({\n",
              "        features: ['text', 'label', 'input_ids', 'attention_mask'],\n",
              "        num_rows: 120000\n",
              "    })\n",
              "    test: Dataset({\n",
              "        features: ['text', 'label', 'input_ids', 'attention_mask'],\n",
              "        num_rows: 7600\n",
              "    })\n",
              "})"
            ]
          },
          "execution_count": 55,
          "metadata": {},
          "output_type": "execute_result"
        }
      ],
      "source": [
        "def preprocess_function(examples):\n",
        "    return tokenizer(examples[\"text\"], max_length=200, truncation=True)\n",
        "\n",
        "tokenized_db = db.map(preprocess_function, batched=True)\n",
        "tokenized_db"
      ]
    },
    {
      "cell_type": "markdown",
      "metadata": {
        "id": "fctUKygElHtT"
      },
      "source": [
        "그리고 `test` data에서 50개의 영화 리뷰에 대해 예측하는 코드는 다음과 같습니다."
      ]
    },
    {
      "cell_type": "code",
      "execution_count": 57,
      "metadata": {
        "colab": {
          "base_uri": "https://localhost:8080/"
        },
        "id": "4-NY-YG4ToT9",
        "outputId": "59bf8581-13fb-4ee8-a7a5-a8cd2b1f0d75"
      },
      "outputs": [
        {
          "name": "stderr",
          "output_type": "stream",
          "text": [
            "100%|██████████| 50/50 [00:13<00:00,  3.84it/s]"
          ]
        },
        {
          "name": "stdout",
          "output_type": "stream",
          "text": [
            "31\n"
          ]
        },
        {
          "name": "stderr",
          "output_type": "stream",
          "text": [
            "\n"
          ]
        }
      ],
      "source": [
        "import numpy as np\n",
        "from tqdm import tqdm\n",
        "\n",
        "n_corrects = 0\n",
        "for i in tqdm(range(50)):\n",
        "    text = tokenized_db['test'][i]['text']\n",
        "    label = tokenized_db['test'][i]['label']\n",
        "    probs = zero_shot_classification(\n",
        "        text,\n",
        "        \"A Article is given. What is the topic of this article?: \",\n",
        "        labels=[\"World\", \"Sports\", \"Business\", \"Sci/Tech\"]\n",
        "    )\n",
        "\n",
        "    pred = np.argmax(np.array(probs))\n",
        "    if pred == label:\n",
        "        n_corrects += 1\n",
        "\n",
        "print(n_corrects)"
      ]
    }
  ],
  "metadata": {
    "accelerator": "GPU",
    "colab": {
      "gpuType": "T4",
      "provenance": []
    },
    "kernelspec": {
      "display_name": "AI_Standard",
      "language": "python",
      "name": "python3"
    },
    "language_info": {
      "codemirror_mode": {
        "name": "ipython",
        "version": 3
      },
      "file_extension": ".py",
      "mimetype": "text/x-python",
      "name": "python",
      "nbconvert_exporter": "python",
      "pygments_lexer": "ipython3",
      "version": "3.10.12"
    },
    "widgets": {
      "application/vnd.jupyter.widget-state+json": {
        "006333234eba4b4da24226a01c5b2746": {
          "model_module": "@jupyter-widgets/controls",
          "model_module_version": "1.5.0",
          "model_name": "DescriptionStyleModel",
          "state": {
            "_model_module": "@jupyter-widgets/controls",
            "_model_module_version": "1.5.0",
            "_model_name": "DescriptionStyleModel",
            "_view_count": null,
            "_view_module": "@jupyter-widgets/base",
            "_view_module_version": "1.2.0",
            "_view_name": "StyleView",
            "description_width": ""
          }
        },
        "097145238cb44bb5b1ef8ee33780bca5": {
          "model_module": "@jupyter-widgets/controls",
          "model_module_version": "1.5.0",
          "model_name": "HTMLModel",
          "state": {
            "_dom_classes": [],
            "_model_module": "@jupyter-widgets/controls",
            "_model_module_version": "1.5.0",
            "_model_name": "HTMLModel",
            "_view_count": null,
            "_view_module": "@jupyter-widgets/controls",
            "_view_module_version": "1.5.0",
            "_view_name": "HTMLView",
            "description": "",
            "description_tooltip": null,
            "layout": "IPY_MODEL_14de9443213346a2b1acc6c9a555be83",
            "placeholder": "​",
            "style": "IPY_MODEL_006333234eba4b4da24226a01c5b2746",
            "value": " 2/2 [00:17&lt;00:00,  7.45s/it]"
          }
        },
        "0e3f7db5454b43df8378482ade8ae6cb": {
          "model_module": "@jupyter-widgets/controls",
          "model_module_version": "1.5.0",
          "model_name": "HTMLModel",
          "state": {
            "_dom_classes": [],
            "_model_module": "@jupyter-widgets/controls",
            "_model_module_version": "1.5.0",
            "_model_name": "HTMLModel",
            "_view_count": null,
            "_view_module": "@jupyter-widgets/controls",
            "_view_module_version": "1.5.0",
            "_view_name": "HTMLView",
            "description": "",
            "description_tooltip": null,
            "layout": "IPY_MODEL_3515005acafa4ba4bb31b3f4a140526c",
            "placeholder": "​",
            "style": "IPY_MODEL_b0de599f252947b3ab2636a3fb757a5a",
            "value": "Loading checkpoint shards: 100%"
          }
        },
        "14de9443213346a2b1acc6c9a555be83": {
          "model_module": "@jupyter-widgets/base",
          "model_module_version": "1.2.0",
          "model_name": "LayoutModel",
          "state": {
            "_model_module": "@jupyter-widgets/base",
            "_model_module_version": "1.2.0",
            "_model_name": "LayoutModel",
            "_view_count": null,
            "_view_module": "@jupyter-widgets/base",
            "_view_module_version": "1.2.0",
            "_view_name": "LayoutView",
            "align_content": null,
            "align_items": null,
            "align_self": null,
            "border": null,
            "bottom": null,
            "display": null,
            "flex": null,
            "flex_flow": null,
            "grid_area": null,
            "grid_auto_columns": null,
            "grid_auto_flow": null,
            "grid_auto_rows": null,
            "grid_column": null,
            "grid_gap": null,
            "grid_row": null,
            "grid_template_areas": null,
            "grid_template_columns": null,
            "grid_template_rows": null,
            "height": null,
            "justify_content": null,
            "justify_items": null,
            "left": null,
            "margin": null,
            "max_height": null,
            "max_width": null,
            "min_height": null,
            "min_width": null,
            "object_fit": null,
            "object_position": null,
            "order": null,
            "overflow": null,
            "overflow_x": null,
            "overflow_y": null,
            "padding": null,
            "right": null,
            "top": null,
            "visibility": null,
            "width": null
          }
        },
        "20ea22fbd6de4a85bcf95430dbab723a": {
          "model_module": "@jupyter-widgets/controls",
          "model_module_version": "1.5.0",
          "model_name": "FloatProgressModel",
          "state": {
            "_dom_classes": [],
            "_model_module": "@jupyter-widgets/controls",
            "_model_module_version": "1.5.0",
            "_model_name": "FloatProgressModel",
            "_view_count": null,
            "_view_module": "@jupyter-widgets/controls",
            "_view_module_version": "1.5.0",
            "_view_name": "ProgressView",
            "bar_style": "success",
            "description": "",
            "description_tooltip": null,
            "layout": "IPY_MODEL_db064ed95c104ed78132946104a85adb",
            "max": 2,
            "min": 0,
            "orientation": "horizontal",
            "style": "IPY_MODEL_3fa9855f02ca49a6b62cfbd26132f11d",
            "value": 2
          }
        },
        "2379a0ef99054d73ab658e8dcf7a05af": {
          "model_module": "@jupyter-widgets/controls",
          "model_module_version": "1.5.0",
          "model_name": "HBoxModel",
          "state": {
            "_dom_classes": [],
            "_model_module": "@jupyter-widgets/controls",
            "_model_module_version": "1.5.0",
            "_model_name": "HBoxModel",
            "_view_count": null,
            "_view_module": "@jupyter-widgets/controls",
            "_view_module_version": "1.5.0",
            "_view_name": "HBoxView",
            "box_style": "",
            "children": [
              "IPY_MODEL_ea46f6de1fec4cd18ccd6659e37fa556",
              "IPY_MODEL_f8dc077abc2b49aa9b67f7c6f77c42e0",
              "IPY_MODEL_3bbd3adf58c248ea99587be77c306043"
            ],
            "layout": "IPY_MODEL_fafd2f415b9a4c6799a431023d3689a9"
          }
        },
        "31c9f3bb8337443ba261f703deb60bee": {
          "model_module": "@jupyter-widgets/controls",
          "model_module_version": "1.5.0",
          "model_name": "HBoxModel",
          "state": {
            "_dom_classes": [],
            "_model_module": "@jupyter-widgets/controls",
            "_model_module_version": "1.5.0",
            "_model_name": "HBoxModel",
            "_view_count": null,
            "_view_module": "@jupyter-widgets/controls",
            "_view_module_version": "1.5.0",
            "_view_name": "HBoxView",
            "box_style": "",
            "children": [
              "IPY_MODEL_0e3f7db5454b43df8378482ade8ae6cb",
              "IPY_MODEL_20ea22fbd6de4a85bcf95430dbab723a",
              "IPY_MODEL_097145238cb44bb5b1ef8ee33780bca5"
            ],
            "layout": "IPY_MODEL_e13d437ed25f4fe1909438ab06b63430"
          }
        },
        "3515005acafa4ba4bb31b3f4a140526c": {
          "model_module": "@jupyter-widgets/base",
          "model_module_version": "1.2.0",
          "model_name": "LayoutModel",
          "state": {
            "_model_module": "@jupyter-widgets/base",
            "_model_module_version": "1.2.0",
            "_model_name": "LayoutModel",
            "_view_count": null,
            "_view_module": "@jupyter-widgets/base",
            "_view_module_version": "1.2.0",
            "_view_name": "LayoutView",
            "align_content": null,
            "align_items": null,
            "align_self": null,
            "border": null,
            "bottom": null,
            "display": null,
            "flex": null,
            "flex_flow": null,
            "grid_area": null,
            "grid_auto_columns": null,
            "grid_auto_flow": null,
            "grid_auto_rows": null,
            "grid_column": null,
            "grid_gap": null,
            "grid_row": null,
            "grid_template_areas": null,
            "grid_template_columns": null,
            "grid_template_rows": null,
            "height": null,
            "justify_content": null,
            "justify_items": null,
            "left": null,
            "margin": null,
            "max_height": null,
            "max_width": null,
            "min_height": null,
            "min_width": null,
            "object_fit": null,
            "object_position": null,
            "order": null,
            "overflow": null,
            "overflow_x": null,
            "overflow_y": null,
            "padding": null,
            "right": null,
            "top": null,
            "visibility": null,
            "width": null
          }
        },
        "3bbd3adf58c248ea99587be77c306043": {
          "model_module": "@jupyter-widgets/controls",
          "model_module_version": "1.5.0",
          "model_name": "HTMLModel",
          "state": {
            "_dom_classes": [],
            "_model_module": "@jupyter-widgets/controls",
            "_model_module_version": "1.5.0",
            "_model_name": "HTMLModel",
            "_view_count": null,
            "_view_module": "@jupyter-widgets/controls",
            "_view_module_version": "1.5.0",
            "_view_name": "HTMLView",
            "description": "",
            "description_tooltip": null,
            "layout": "IPY_MODEL_5d04a65826e74808b09d55412c8a7be1",
            "placeholder": "​",
            "style": "IPY_MODEL_a95543073c7242fd949ec78b03905494",
            "value": " 25000/25000 [00:20&lt;00:00, 939.01 examples/s]"
          }
        },
        "3fa9855f02ca49a6b62cfbd26132f11d": {
          "model_module": "@jupyter-widgets/controls",
          "model_module_version": "1.5.0",
          "model_name": "ProgressStyleModel",
          "state": {
            "_model_module": "@jupyter-widgets/controls",
            "_model_module_version": "1.5.0",
            "_model_name": "ProgressStyleModel",
            "_view_count": null,
            "_view_module": "@jupyter-widgets/base",
            "_view_module_version": "1.2.0",
            "_view_name": "StyleView",
            "bar_color": null,
            "description_width": ""
          }
        },
        "5d04a65826e74808b09d55412c8a7be1": {
          "model_module": "@jupyter-widgets/base",
          "model_module_version": "1.2.0",
          "model_name": "LayoutModel",
          "state": {
            "_model_module": "@jupyter-widgets/base",
            "_model_module_version": "1.2.0",
            "_model_name": "LayoutModel",
            "_view_count": null,
            "_view_module": "@jupyter-widgets/base",
            "_view_module_version": "1.2.0",
            "_view_name": "LayoutView",
            "align_content": null,
            "align_items": null,
            "align_self": null,
            "border": null,
            "bottom": null,
            "display": null,
            "flex": null,
            "flex_flow": null,
            "grid_area": null,
            "grid_auto_columns": null,
            "grid_auto_flow": null,
            "grid_auto_rows": null,
            "grid_column": null,
            "grid_gap": null,
            "grid_row": null,
            "grid_template_areas": null,
            "grid_template_columns": null,
            "grid_template_rows": null,
            "height": null,
            "justify_content": null,
            "justify_items": null,
            "left": null,
            "margin": null,
            "max_height": null,
            "max_width": null,
            "min_height": null,
            "min_width": null,
            "object_fit": null,
            "object_position": null,
            "order": null,
            "overflow": null,
            "overflow_x": null,
            "overflow_y": null,
            "padding": null,
            "right": null,
            "top": null,
            "visibility": null,
            "width": null
          }
        },
        "76e62808134346949ef3b047486beb6f": {
          "model_module": "@jupyter-widgets/base",
          "model_module_version": "1.2.0",
          "model_name": "LayoutModel",
          "state": {
            "_model_module": "@jupyter-widgets/base",
            "_model_module_version": "1.2.0",
            "_model_name": "LayoutModel",
            "_view_count": null,
            "_view_module": "@jupyter-widgets/base",
            "_view_module_version": "1.2.0",
            "_view_name": "LayoutView",
            "align_content": null,
            "align_items": null,
            "align_self": null,
            "border": null,
            "bottom": null,
            "display": null,
            "flex": null,
            "flex_flow": null,
            "grid_area": null,
            "grid_auto_columns": null,
            "grid_auto_flow": null,
            "grid_auto_rows": null,
            "grid_column": null,
            "grid_gap": null,
            "grid_row": null,
            "grid_template_areas": null,
            "grid_template_columns": null,
            "grid_template_rows": null,
            "height": null,
            "justify_content": null,
            "justify_items": null,
            "left": null,
            "margin": null,
            "max_height": null,
            "max_width": null,
            "min_height": null,
            "min_width": null,
            "object_fit": null,
            "object_position": null,
            "order": null,
            "overflow": null,
            "overflow_x": null,
            "overflow_y": null,
            "padding": null,
            "right": null,
            "top": null,
            "visibility": null,
            "width": null
          }
        },
        "a95543073c7242fd949ec78b03905494": {
          "model_module": "@jupyter-widgets/controls",
          "model_module_version": "1.5.0",
          "model_name": "DescriptionStyleModel",
          "state": {
            "_model_module": "@jupyter-widgets/controls",
            "_model_module_version": "1.5.0",
            "_model_name": "DescriptionStyleModel",
            "_view_count": null,
            "_view_module": "@jupyter-widgets/base",
            "_view_module_version": "1.2.0",
            "_view_name": "StyleView",
            "description_width": ""
          }
        },
        "b0de599f252947b3ab2636a3fb757a5a": {
          "model_module": "@jupyter-widgets/controls",
          "model_module_version": "1.5.0",
          "model_name": "DescriptionStyleModel",
          "state": {
            "_model_module": "@jupyter-widgets/controls",
            "_model_module_version": "1.5.0",
            "_model_name": "DescriptionStyleModel",
            "_view_count": null,
            "_view_module": "@jupyter-widgets/base",
            "_view_module_version": "1.2.0",
            "_view_name": "StyleView",
            "description_width": ""
          }
        },
        "db064ed95c104ed78132946104a85adb": {
          "model_module": "@jupyter-widgets/base",
          "model_module_version": "1.2.0",
          "model_name": "LayoutModel",
          "state": {
            "_model_module": "@jupyter-widgets/base",
            "_model_module_version": "1.2.0",
            "_model_name": "LayoutModel",
            "_view_count": null,
            "_view_module": "@jupyter-widgets/base",
            "_view_module_version": "1.2.0",
            "_view_name": "LayoutView",
            "align_content": null,
            "align_items": null,
            "align_self": null,
            "border": null,
            "bottom": null,
            "display": null,
            "flex": null,
            "flex_flow": null,
            "grid_area": null,
            "grid_auto_columns": null,
            "grid_auto_flow": null,
            "grid_auto_rows": null,
            "grid_column": null,
            "grid_gap": null,
            "grid_row": null,
            "grid_template_areas": null,
            "grid_template_columns": null,
            "grid_template_rows": null,
            "height": null,
            "justify_content": null,
            "justify_items": null,
            "left": null,
            "margin": null,
            "max_height": null,
            "max_width": null,
            "min_height": null,
            "min_width": null,
            "object_fit": null,
            "object_position": null,
            "order": null,
            "overflow": null,
            "overflow_x": null,
            "overflow_y": null,
            "padding": null,
            "right": null,
            "top": null,
            "visibility": null,
            "width": null
          }
        },
        "e13d437ed25f4fe1909438ab06b63430": {
          "model_module": "@jupyter-widgets/base",
          "model_module_version": "1.2.0",
          "model_name": "LayoutModel",
          "state": {
            "_model_module": "@jupyter-widgets/base",
            "_model_module_version": "1.2.0",
            "_model_name": "LayoutModel",
            "_view_count": null,
            "_view_module": "@jupyter-widgets/base",
            "_view_module_version": "1.2.0",
            "_view_name": "LayoutView",
            "align_content": null,
            "align_items": null,
            "align_self": null,
            "border": null,
            "bottom": null,
            "display": null,
            "flex": null,
            "flex_flow": null,
            "grid_area": null,
            "grid_auto_columns": null,
            "grid_auto_flow": null,
            "grid_auto_rows": null,
            "grid_column": null,
            "grid_gap": null,
            "grid_row": null,
            "grid_template_areas": null,
            "grid_template_columns": null,
            "grid_template_rows": null,
            "height": null,
            "justify_content": null,
            "justify_items": null,
            "left": null,
            "margin": null,
            "max_height": null,
            "max_width": null,
            "min_height": null,
            "min_width": null,
            "object_fit": null,
            "object_position": null,
            "order": null,
            "overflow": null,
            "overflow_x": null,
            "overflow_y": null,
            "padding": null,
            "right": null,
            "top": null,
            "visibility": null,
            "width": null
          }
        },
        "e94ec0e1574a4a93ac885256005870b9": {
          "model_module": "@jupyter-widgets/controls",
          "model_module_version": "1.5.0",
          "model_name": "DescriptionStyleModel",
          "state": {
            "_model_module": "@jupyter-widgets/controls",
            "_model_module_version": "1.5.0",
            "_model_name": "DescriptionStyleModel",
            "_view_count": null,
            "_view_module": "@jupyter-widgets/base",
            "_view_module_version": "1.2.0",
            "_view_name": "StyleView",
            "description_width": ""
          }
        },
        "ea46f6de1fec4cd18ccd6659e37fa556": {
          "model_module": "@jupyter-widgets/controls",
          "model_module_version": "1.5.0",
          "model_name": "HTMLModel",
          "state": {
            "_dom_classes": [],
            "_model_module": "@jupyter-widgets/controls",
            "_model_module_version": "1.5.0",
            "_model_name": "HTMLModel",
            "_view_count": null,
            "_view_module": "@jupyter-widgets/controls",
            "_view_module_version": "1.5.0",
            "_view_name": "HTMLView",
            "description": "",
            "description_tooltip": null,
            "layout": "IPY_MODEL_76e62808134346949ef3b047486beb6f",
            "placeholder": "​",
            "style": "IPY_MODEL_e94ec0e1574a4a93ac885256005870b9",
            "value": "Map: 100%"
          }
        },
        "f6a8d4f6823e48f4a7eb5e1ea9db03ca": {
          "model_module": "@jupyter-widgets/controls",
          "model_module_version": "1.5.0",
          "model_name": "ProgressStyleModel",
          "state": {
            "_model_module": "@jupyter-widgets/controls",
            "_model_module_version": "1.5.0",
            "_model_name": "ProgressStyleModel",
            "_view_count": null,
            "_view_module": "@jupyter-widgets/base",
            "_view_module_version": "1.2.0",
            "_view_name": "StyleView",
            "bar_color": null,
            "description_width": ""
          }
        },
        "f8dc077abc2b49aa9b67f7c6f77c42e0": {
          "model_module": "@jupyter-widgets/controls",
          "model_module_version": "1.5.0",
          "model_name": "FloatProgressModel",
          "state": {
            "_dom_classes": [],
            "_model_module": "@jupyter-widgets/controls",
            "_model_module_version": "1.5.0",
            "_model_name": "FloatProgressModel",
            "_view_count": null,
            "_view_module": "@jupyter-widgets/controls",
            "_view_module_version": "1.5.0",
            "_view_name": "ProgressView",
            "bar_style": "success",
            "description": "",
            "description_tooltip": null,
            "layout": "IPY_MODEL_f90fb938a7e84075a852b5419d983d34",
            "max": 25000,
            "min": 0,
            "orientation": "horizontal",
            "style": "IPY_MODEL_f6a8d4f6823e48f4a7eb5e1ea9db03ca",
            "value": 25000
          }
        },
        "f90fb938a7e84075a852b5419d983d34": {
          "model_module": "@jupyter-widgets/base",
          "model_module_version": "1.2.0",
          "model_name": "LayoutModel",
          "state": {
            "_model_module": "@jupyter-widgets/base",
            "_model_module_version": "1.2.0",
            "_model_name": "LayoutModel",
            "_view_count": null,
            "_view_module": "@jupyter-widgets/base",
            "_view_module_version": "1.2.0",
            "_view_name": "LayoutView",
            "align_content": null,
            "align_items": null,
            "align_self": null,
            "border": null,
            "bottom": null,
            "display": null,
            "flex": null,
            "flex_flow": null,
            "grid_area": null,
            "grid_auto_columns": null,
            "grid_auto_flow": null,
            "grid_auto_rows": null,
            "grid_column": null,
            "grid_gap": null,
            "grid_row": null,
            "grid_template_areas": null,
            "grid_template_columns": null,
            "grid_template_rows": null,
            "height": null,
            "justify_content": null,
            "justify_items": null,
            "left": null,
            "margin": null,
            "max_height": null,
            "max_width": null,
            "min_height": null,
            "min_width": null,
            "object_fit": null,
            "object_position": null,
            "order": null,
            "overflow": null,
            "overflow_x": null,
            "overflow_y": null,
            "padding": null,
            "right": null,
            "top": null,
            "visibility": null,
            "width": null
          }
        },
        "fafd2f415b9a4c6799a431023d3689a9": {
          "model_module": "@jupyter-widgets/base",
          "model_module_version": "1.2.0",
          "model_name": "LayoutModel",
          "state": {
            "_model_module": "@jupyter-widgets/base",
            "_model_module_version": "1.2.0",
            "_model_name": "LayoutModel",
            "_view_count": null,
            "_view_module": "@jupyter-widgets/base",
            "_view_module_version": "1.2.0",
            "_view_name": "LayoutView",
            "align_content": null,
            "align_items": null,
            "align_self": null,
            "border": null,
            "bottom": null,
            "display": null,
            "flex": null,
            "flex_flow": null,
            "grid_area": null,
            "grid_auto_columns": null,
            "grid_auto_flow": null,
            "grid_auto_rows": null,
            "grid_column": null,
            "grid_gap": null,
            "grid_row": null,
            "grid_template_areas": null,
            "grid_template_columns": null,
            "grid_template_rows": null,
            "height": null,
            "justify_content": null,
            "justify_items": null,
            "left": null,
            "margin": null,
            "max_height": null,
            "max_width": null,
            "min_height": null,
            "min_width": null,
            "object_fit": null,
            "object_position": null,
            "order": null,
            "overflow": null,
            "overflow_x": null,
            "overflow_y": null,
            "padding": null,
            "right": null,
            "top": null,
            "visibility": null,
            "width": null
          }
        }
      }
    }
  },
  "nbformat": 4,
  "nbformat_minor": 0
}
